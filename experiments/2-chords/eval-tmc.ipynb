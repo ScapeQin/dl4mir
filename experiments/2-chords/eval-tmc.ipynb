{
 "metadata": {
  "name": "",
  "signature": "sha256:a33b236256312dc6d64dca01efee583d30068386eb6c64907a09a2f06e11c7fa"
 },
 "nbformat": 3,
 "nbformat_minor": 0,
 "worksheets": [
  {
   "cells": [
    {
     "cell_type": "heading",
     "level": 1,
     "metadata": {},
     "source": [
      "Automatic Chord Estimation - Evaluation"
     ]
    },
    {
     "cell_type": "markdown",
     "metadata": {},
     "source": [
      "Visualization code accompanying Chapter 5"
     ]
    },
    {
     "cell_type": "code",
     "collapsed": false,
     "input": [
      "# Imports and config\n",
      "from collections import OrderedDict\n",
      "import glob\n",
      "import json\n",
      "import mir_eval\n",
      "import numpy as np\n",
      "import pyjams\n",
      "import tabulate\n",
      "\n",
      "# Viz\n",
      "import matplotlib.pyplot as plt\n",
      "%matplotlib inline\n",
      "import mpld3\n",
      "import seaborn\n",
      "seaborn.set()\n",
      "mpld3.enable_notebook()\n",
      "np.set_printoptions(precision=4)\n",
      "\n",
      "# DL4MIR stuff\n",
      "import dl4mir.common.util as util\n",
      "import dl4mir.common.jams_util as jams_util\n",
      "import dl4mir.chords.lexicon as lex\n",
      "import dl4mir.chords.evaluate as E\n",
      "\n",
      "# Path variables\n",
      "basedir = \"/Users/ejhumphrey/dl4mir\""
     ],
     "language": "python",
     "metadata": {},
     "outputs": [],
     "prompt_number": 1
    },
    {
     "cell_type": "heading",
     "level": 2,
     "metadata": {},
     "source": [
      "Partitioning the Reference Annotations"
     ]
    },
    {
     "cell_type": "markdown",
     "metadata": {},
     "source": [
      "Based on previous findings in chord estimation research, the neural networks were trained exclusively on strictly filtered chord labels rather than attempt to shoe-horn these other chord labels into a fixed number of classes.\n",
      "\n",
      "For the purposes of evaluation, it will be necessary to consider the networks perform in three different scenarios:\n",
      "* Only on **strict** chord labels\n",
      "* Only on **other** chord labels\n",
      "* Only **all** chord labels\n",
      "\n",
      "First, it will be necessary to split the reference annotations into these subsets."
     ]
    },
    {
     "cell_type": "code",
     "collapsed": false,
     "input": [
      "refs = jams_util.load_jamset(\"{basedir}/references.jamset\".format(basedir=basedir))\n",
      "strict = jams_util.load_jamset(\"{basedir}/references_strict.jamset\".format(basedir=basedir))\n",
      "others = jams_util.load_jamset(\"{basedir}/references_others.jamset\".format(basedir=basedir))"
     ],
     "language": "python",
     "metadata": {},
     "outputs": [],
     "prompt_number": 2
    },
    {
     "cell_type": "code",
     "collapsed": false,
     "input": [
      "test_key = refs.keys()[0]\n",
      "jam = refs[test_key]\n",
      "annot = jam.chord[0]\n",
      "print annot.labels.value[:10]"
     ],
     "language": "python",
     "metadata": {},
     "outputs": [
      {
       "output_type": "stream",
       "stream": "stdout",
       "text": [
        "[u'N', u'D:min7', u'Db:9(b5)', u'C:maj', u'G:maj/3', u'F:maj/3', u'C:maj/5', u'F:maj7', u'C:maj/3', u'D:7']\n"
       ]
      }
     ],
     "prompt_number": 72
    },
    {
     "cell_type": "code",
     "collapsed": false,
     "input": [
      "print jam.file_metadata"
     ],
     "language": "python",
     "metadata": {},
     "outputs": [
      {
       "output_type": "stream",
       "stream": "stdout",
       "text": [
        "{\n",
        "  \"duration\": 338.85995, \n",
        "  \"title\": \"Piano Man\", \n",
        "  \"identifiers\": {\n",
        "    \"audio_md5\": \"2f13b45e3e65530ca3d51f3545a58d58\", \n",
        "    \"echonest_track_id\": \"TRLMOYB127F8B4D8B9\", \n",
        "    \"md5\": \"6fd68264d9230baed9fe5a98cb11c819\"\n",
        "  }, \n",
        "  \"jams_version\": \"0.0.1\", \n",
        "  \"artist\": \"Joel, Billy\"\n",
        "}\n"
       ]
      }
     ],
     "prompt_number": 56
    },
    {
     "cell_type": "code",
     "collapsed": false,
     "input": [
      "vocab = lex.Strict(157)"
     ],
     "language": "python",
     "metadata": {},
     "outputs": [],
     "prompt_number": 18
    },
    {
     "cell_type": "code",
     "collapsed": false,
     "input": [
      "# Iterate over the reference set, and \"turn off\" labels that \n",
      "# *are not* strictly in the class prediction space.\n",
      "strict = dict()\n",
      "for key, jam in refs.iteritems():\n",
      "    strict[key] = pyjams.JAMS(**jam)\n",
      "    for annot in strict[key].chord:\n",
      "        gamut = E.v157_strict(annot.labels.value, annot.labels.value)\n",
      "        for idx, value in enumerate(gamut):\n",
      "            if value < 0:\n",
      "                annot.data[idx].label.value = \"X\""
     ],
     "language": "python",
     "metadata": {},
     "outputs": [],
     "prompt_number": 75
    },
    {
     "cell_type": "code",
     "collapsed": false,
     "input": [
      "jam = strict[test_key]\n",
      "annot = jam.chord[0]\n",
      "print annot.labels.value[:10]"
     ],
     "language": "python",
     "metadata": {},
     "outputs": [
      {
       "output_type": "stream",
       "stream": "stdout",
       "text": [
        "[u'N', u'D:min7', 'X', u'C:maj', 'X', 'X', 'X', u'F:maj7', 'X', u'D:7']\n"
       ]
      }
     ],
     "prompt_number": 76
    },
    {
     "cell_type": "code",
     "collapsed": false,
     "input": [
      "jams_util.save_jamset(\n",
      "    strict, \n",
      "    \"{basedir}/references_strict.jamset\".format(basedir=basedir))"
     ],
     "language": "python",
     "metadata": {},
     "outputs": [],
     "prompt_number": 77
    },
    {
     "cell_type": "code",
     "collapsed": false,
     "input": [
      "# Iterate over the reference set, and \"turn off\" labels that *are*\n",
      "# in the class prediction space.\n",
      "others = dict()\n",
      "for key, jam in refs.iteritems():\n",
      "    others[key] = pyjams.JAMS(**jam)\n",
      "    for annot in others[key].chord:\n",
      "        for idx, obs in enumerate(annot.data):\n",
      "            if not vocab.label_to_index(obs.label.value) is None:\n",
      "                obs.label.value = \"X\""
     ],
     "language": "python",
     "metadata": {},
     "outputs": [],
     "prompt_number": 78
    },
    {
     "cell_type": "code",
     "collapsed": false,
     "input": [
      "jam = others.values()[0]\n",
      "annot = jam.chord[0]\n",
      "print annot.labels.value[:10]"
     ],
     "language": "python",
     "metadata": {},
     "outputs": [
      {
       "output_type": "stream",
       "stream": "stdout",
       "text": [
        "['X', 'X', u'Db:9(b5)', 'X', u'G:maj/3', u'F:maj/3', u'C:maj/5', 'X', u'C:maj/3', 'X']\n"
       ]
      }
     ],
     "prompt_number": 79
    },
    {
     "cell_type": "code",
     "collapsed": false,
     "input": [
      "jams_util.save_jamset(\n",
      "    others, \n",
      "    \"{basedir}/references_others.jamset\".format(basedir=basedir))"
     ],
     "language": "python",
     "metadata": {},
     "outputs": [],
     "prompt_number": 67
    },
    {
     "cell_type": "code",
     "collapsed": false,
     "input": [],
     "language": "python",
     "metadata": {},
     "outputs": [],
     "prompt_number": 34
    },
    {
     "cell_type": "heading",
     "level": 2,
     "metadata": {},
     "source": [
      "Pulling in Estimations"
     ]
    },
    {
     "cell_type": "code",
     "collapsed": false,
     "input": [
      "est_fmt = \"{basedir}/estimations/tmc/band-4/{fold}/{split}.json\"\n",
      "models = \"L\",\"XL\",\"XXL\"\n",
      "dropout = \"0.0\",\"0.125\",\"0.25\",\"0.5\"\n",
      "folds = range(5)\n",
      "splits = 'train', 'valid', 'test'\n",
      "metrics = E.COMPARISONS.keys()"
     ],
     "language": "python",
     "metadata": {},
     "outputs": [],
     "prompt_number": 3
    },
    {
     "cell_type": "code",
     "collapsed": false,
     "input": [
      "params = dict(\n",
      "    basedir=basedir, fold=folds[0], split=splits[1])\n",
      "ests = jams_util.load_jamset(glob.glob(est_fmt.format(**params))[0])"
     ],
     "language": "python",
     "metadata": {},
     "outputs": [],
     "prompt_number": 4
    },
    {
     "cell_type": "code",
     "collapsed": false,
     "input": [
      "jam = ests[test_key]\n",
      "annot = jam.chord[0]\n",
      "print annot.labels.value[:10]"
     ],
     "language": "python",
     "metadata": {},
     "outputs": [
      {
       "output_type": "stream",
       "stream": "stdout",
       "text": [
        "[u'N', u'D:min7', u'D:dim', u'D:dim7', u'D:hdim7', u'C:maj', u'B:dim7', u'A:min7', u'G:maj6', u'F:maj7']\n"
       ]
      }
     ],
     "prompt_number": 86
    },
    {
     "cell_type": "code",
     "collapsed": false,
     "input": [
      "keys = ests.keys()\n",
      "est_annots = [ests[k].chord[0] for k in keys]\n",
      "ref_annots_all = [refs[k].chord[0] for k in keys]\n",
      "ref_annots_strict = [strict[k].chord[0] for k in keys]\n",
      "ref_annots_others = [others[k].chord[0] for k in keys]"
     ],
     "language": "python",
     "metadata": {},
     "outputs": [],
     "prompt_number": 5
    },
    {
     "cell_type": "code",
     "collapsed": false,
     "input": [
      "for ref_annots in ref_annots_all, ref_annots_strict, ref_annots_others:\n",
      "    scores, supports = E.score_annotations(ref_annots, est_annots, metrics)\n",
      "    scores_macro = scores.mean(axis=0)\n",
      "    scalar = supports.sum(axis=0)\n",
      "    scalar[scalar == 0.0] = 1.0\n",
      "    scores_micro = (supports * scores).sum(axis=0) / scalar\n",
      "    print \" \"\n",
      "    print tabulate.tabulate([scores_macro.tolist(), scores_micro.tolist()], headers=metrics)"
     ],
     "language": "python",
     "metadata": {},
     "outputs": [
      {
       "output_type": "stream",
       "stream": "stdout",
       "text": [
        " \n",
        "  triads      root    v157_strict     mirex    tetrads    sevenths    thirds    majmin\n",
        "--------  --------  -------------  --------  ---------  ----------  --------  --------\n",
        "0.700721  0.787756       0.64727   0.758522   0.580385    0.634126  0.757069  0.752809\n",
        "0.694803  0.78549        0.650228  0.7586     0.572668    0.633534  0.754325  0.754677\n",
        " "
       ]
      },
      {
       "output_type": "stream",
       "stream": "stdout",
       "text": [
        "\n",
        "  triads      root    v157_strict     mirex    tetrads    sevenths    thirds    majmin\n",
        "--------  --------  -------------  --------  ---------  ----------  --------  --------\n",
        "0.766372  0.812542       0.64727   0.782322   0.64727     0.659932  0.788784  0.775624\n",
        "0.771491  0.820514       0.650228  0.787249   0.650228    0.665844  0.796685  0.78249\n",
        " "
       ]
      },
      {
       "output_type": "stream",
       "stream": "stdout",
       "text": [
        "\n",
        "  triads      root    v157_strict     mirex    tetrads    sevenths    thirds    majmin\n",
        "--------  --------  -------------  --------  ---------  ----------  --------  --------\n",
        "0.32776   0.514421              0  0.455996   0.226048    0.30033   0.46776   0.392778\n",
        "0.368659  0.636538              0  0.603706   0.242814    0.406214  0.574171  0.563966\n"
       ]
      }
     ],
     "prompt_number": 14
    },
    {
     "cell_type": "code",
     "collapsed": false,
     "input": [
      "partitions = 'all', 'strict', 'others'\n",
      "results = dict()\n",
      "for idx in folds:\n",
      "    params.update(fold=idx)\n",
      "    results[m][d][idx] = dict()\n",
      "    for s in splits:\n",
      "        results[m][d][idx][s] = dict()\n",
      "        params.update(split=s)\n",
      "        ests = jams_util.load_jamset(glob.glob(est_fmt.format(**params))[0])\n",
      "        keys = ests.keys()\n",
      "        est_annots = [ests[k].chord[0] for k in keys]\n",
      "        ref_annots_all = [refs[k].chord[0] for k in keys]\n",
      "        ref_annots_strict = [strict[k].chord[0] for k in keys]\n",
      "        ref_annots_others = [others[k].chord[0] for k in keys]\n",
      "        for p, ref_annots in zip(partitions, [ref_annots_all, ref_annots_strict, ref_annots_others]):\n",
      "            scores, supports = E.score_annotations(ref_annots, est_annots, metrics)\n",
      "            results[m][d][idx][s][p] = dict(score_annotations=(scores, supports)) \n",
      "            scores_macro = scores.mean(axis=0)\n",
      "            scalar = supports.sum(axis=0)\n",
      "            scalar[scalar == 0] = 1.0\n",
      "            scores_micro = (supports * scores).sum(axis=0) / scalar\n",
      "            print \"\\n{0} - {1} - {2} - {3} - {4}\".format(m, d, idx, s, p)\n",
      "            print tabulate.tabulate([scores_macro.tolist(), scores_micro.tolist()], headers=metrics)\n"
     ],
     "language": "python",
     "metadata": {},
     "outputs": []
    },
    {
     "cell_type": "code",
     "collapsed": false,
     "input": [
      "label_counts.keys()"
     ],
     "language": "python",
     "metadata": {},
     "outputs": [
      {
       "metadata": {},
       "output_type": "pyout",
       "prompt_number": 89,
       "text": [
        "['triads',\n",
        " 'majmin',\n",
        " 'thirds',\n",
        " 'v157_strict',\n",
        " 'tetrads',\n",
        " 'sevenths',\n",
        " 'root',\n",
        " 'mirex']"
       ]
      }
     ],
     "prompt_number": 89
    },
    {
     "cell_type": "code",
     "collapsed": false,
     "input": [
      "vocab = lex.Strict(157)"
     ],
     "language": "python",
     "metadata": {},
     "outputs": [],
     "prompt_number": 7
    },
    {
     "cell_type": "code",
     "collapsed": false,
     "input": [
      "a = vocab.label_to_index(['N', 'C', 'X'])\n",
      "b = vocab.label_to_index(['N', 'C', 'C'])\n",
      "np.equal(a, b)\n",
      "np.equal(a, None)"
     ],
     "language": "python",
     "metadata": {},
     "outputs": [
      {
       "metadata": {},
       "output_type": "pyout",
       "prompt_number": 12,
       "text": [
        "array([False, False,  True], dtype=bool)"
       ]
      }
     ],
     "prompt_number": 12
    },
    {
     "cell_type": "code",
     "collapsed": false,
     "input": [
      "reload(E)"
     ],
     "language": "python",
     "metadata": {},
     "outputs": [
      {
       "metadata": {},
       "output_type": "pyout",
       "prompt_number": 13,
       "text": [
        "<module 'dl4mir.chords.evaluate' from '/Users/ejhumphrey/Dropbox/NYU/marldev/src/dl4mir/chords/evaluate.py'>"
       ]
      }
     ],
     "prompt_number": 13
    },
    {
     "cell_type": "code",
     "collapsed": false,
     "input": [],
     "language": "python",
     "metadata": {},
     "outputs": []
    }
   ],
   "metadata": {}
  }
 ]
}
